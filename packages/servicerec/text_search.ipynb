{
 "cells": [
  {
   "cell_type": "code",
   "execution_count": null,
   "id": "43c56a31",
   "metadata": {},
   "outputs": [],
   "source": [
    "import requests\n",
    "import pandas as pd\n",
    "from getpass import getpass"
   ]
  },
  {
   "cell_type": "code",
   "execution_count": null,
   "id": "0160a240",
   "metadata": {},
   "outputs": [],
   "source": [
    "# Wide notebook layout and larger limits for dataframes\n",
    "from IPython.core.display import display, HTML\n",
    "display(HTML(\"<style>.container { width:95% !important; }</style>\"))\n",
    "pd.options.display.max_colwidth = 500\n",
    "pd.options.display.max_rows = 500"
   ]
  },
  {
   "cell_type": "code",
   "execution_count": null,
   "id": "5db470da",
   "metadata": {},
   "outputs": [],
   "source": [
    "# API key can be found in LastPass\n",
    "api_key = getpass()"
   ]
  },
  {
   "cell_type": "code",
   "execution_count": null,
   "id": "e2e154f5",
   "metadata": {},
   "outputs": [],
   "source": [
    "services = pd.read_json('~/aurora/services/services.json')"
   ]
  },
  {
   "cell_type": "code",
   "execution_count": null,
   "id": "8afcb477",
   "metadata": {},
   "outputs": [],
   "source": [
    "def text_search_request(text, limit):\n",
    "    api = \"https://auroraai.astest.suomi.fi/service-recommender/v1\"\n",
    "    url = f'{api}/text_search'\n",
    "    headers = {\n",
    "        'content-type': 'application/json',\n",
    "        'x-api-key': api_key\n",
    "    }\n",
    "    params = {\n",
    "        'search_text': text,\n",
    "        'limit': limit         \n",
    "    }\n",
    "    return requests.post(url, headers=headers, json=params)\n",
    "\n",
    "def response_to_df(response, city, pattern):\n",
    "    json = response.json()\n",
    "    df = pd.DataFrame(json['recommended_services'])\n",
    "    df = df[['service_id', 'similarity_score']]\n",
    "    df = services.merge(df, left_on='id', right_on='service_id')\n",
    "    \n",
    "    if city is not None:\n",
    "        subset = df.municipalities.apply(lambda l: city in l)\n",
    "        df = df[subset]\n",
    "        \n",
    "    if pattern is not None:\n",
    "        subset = df.descriptions.astype(str).str.contains(pattern, case=False)\n",
    "        df = df[subset]\n",
    "        \n",
    "    return df.sort_values('similarity_score')\n",
    "\n",
    "def text_search(text, limit=5, city=None, pattern=None):\n",
    "    response = text_search_request(text, limit)\n",
    "    if not response.ok:\n",
    "        raise ConnectionError(response.reason)\n",
    "    df = response_to_df(response, city, pattern)\n",
    "    return df"
   ]
  },
  {
   "cell_type": "code",
   "execution_count": null,
   "id": "cc40afb3",
   "metadata": {
    "scrolled": false
   },
   "outputs": [],
   "source": [
    "df = text_search(\n",
    "    'nuorten työnhaku', \n",
    "    limit=50, \n",
    "    city=None,\n",
    "    pattern=None)\n",
    "df"
   ]
  }
 ],
 "metadata": {
  "kernelspec": {
   "display_name": "Python 3 (ipykernel)",
   "language": "python",
   "name": "python3"
  },
  "language_info": {
   "codemirror_mode": {
    "name": "ipython",
    "version": 3
   },
   "file_extension": ".py",
   "mimetype": "text/x-python",
   "name": "python",
   "nbconvert_exporter": "python",
   "pygments_lexer": "ipython3",
   "version": "3.8.11"
  }
 },
 "nbformat": 4,
 "nbformat_minor": 5
}
